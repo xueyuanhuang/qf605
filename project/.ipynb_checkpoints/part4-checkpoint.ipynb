{
 "cells": [
  {
   "cell_type": "code",
   "execution_count": 1,
   "id": "ed22bd24-2fd9-41c9-abc3-a2ae1a9482ac",
   "metadata": {},
   "outputs": [],
   "source": [
    "import pandas as pd\n",
    "from scipy import integrate\n",
    "from scipy.stats import norm\n",
    "import numpy as np"
   ]
  },
  {
   "cell_type": "code",
   "execution_count": 2,
   "id": "3c1aa00f-3250-40f0-9f66-3d8daa3a51d8",
   "metadata": {},
   "outputs": [],
   "source": [
    "#payer-call receiver-put\n",
    "def black76_Call(F, K, T, sigma):\n",
    "    #discount_factor = np.exp(-r*T)\n",
    "    #F = S0*np.exp(r*T)\n",
    "    d1 = (np.log(F/K)+(1/2)*(sigma**2)*T)/(sigma*np.sqrt(T))\n",
    "    d2 = d1 - sigma * np.sqrt(T)\n",
    "    price = F*norm.cdf(d1) - K*norm.cdf(d2)\n",
    "    return price\n",
    "def black76_Put(F, K, T, sigma):\n",
    "    #discount_factor = np.exp(-r*T)\n",
    "    #F = S0*np.exp(r*T)\n",
    "    d1 = (np.log(F/K)+1/2*(sigma**2)*T)/(sigma*np.sqrt(T))\n",
    "    d2 = d1 - sigma * np.sqrt(T)\n",
    "    price = K*norm.cdf(-d2) - F*norm.cdf(-d1)\n",
    "    return price\n",
    "\n",
    "def SABR(F, K, T, alpha, beta, rho, nu):\n",
    "    X = K\n",
    "    # if K is at-the-money-forward\n",
    "    # if abs(F - K) < 1e-12:\n",
    "    if F == K:\n",
    "        numer1 = (((1 - beta)**2)/24)*alpha*alpha/(F**(2 - 2*beta))\n",
    "        numer2 = 0.25*rho*beta*nu*alpha/(F**(1 - beta))\n",
    "        numer3 = ((2 - 3*rho*rho)/24)*nu*nu\n",
    "        VolAtm = alpha*(1 + (numer1 + numer2 + numer3)*T)/(F**(1-beta))\n",
    "        sabrsigma = VolAtm\n",
    "    else:\n",
    "        z = (nu/alpha)*((F*X)**(0.5*(1-beta)))*np.log(F/X)\n",
    "        zhi = np.log((((1 - 2*rho*z + z*z)**0.5) + z - rho)/(1 - rho))\n",
    "        # if np.isnan(zhi):\n",
    "        #     print((((1 - 2*rho*z + z*z)**0.5) + z - rho)/(1 - rho))\n",
    "        #     return\n",
    "        numer1 = (((1 - beta)**2)/24)*((alpha*alpha)/((F*X)**(1 - beta)))\n",
    "        numer2 = 0.25*rho*beta*nu*alpha/((F*X)**((1 - beta)/2))\n",
    "        numer3 = ((2 - 3*rho*rho)/24)*nu*nu\n",
    "        numer = alpha*(1 + (numer1 + numer2 + numer3)*T)*z\n",
    "        denom1 = ((1 - beta)**2/24)*(np.log(F/X))**2\n",
    "        denom2 = (((1 - beta)**4)/1920)*((np.log(F/X))**4)\n",
    "        denom = ((F*X)**((1 - beta)/2))*(1 + denom1 + denom2)*zhi\n",
    "        sabrsigma = numer/denom\n",
    "\n",
    "    return sabrsigma"
   ]
  },
  {
   "cell_type": "code",
   "execution_count": 3,
   "id": "952cfced-cfd2-4edc-91d2-02226f00a7a5",
   "metadata": {},
   "outputs": [],
   "source": [
    "def IRR(K, tenor, delta):\n",
    "    sum = 0\n",
    "    for i in np.arange(1, tenor/delta + 1):\n",
    "        sum += delta*(1 + K*delta)**(-i)\n",
    "    return sum\n",
    "\n",
    "# first derivative\n",
    "def IRR1(K, tenor, delta):\n",
    "    sum = 0\n",
    "    for i in np.arange(1, tenor/delta + 1):\n",
    "        sum += (-i)*(delta**2)*(1 + K*delta)**(-i-1)\n",
    "    return sum\n",
    "\n",
    "# second derivative\n",
    "def IRR2(K, tenor, delta):\n",
    "    sum = 0\n",
    "    for i in np.arange(1, tenor/delta + 1):\n",
    "        sum += (-i)*(-i-1)*(delta**3)*(1 + K*delta)**(-i-2)\n",
    "    return sum"
   ]
  },
  {
   "cell_type": "markdown",
   "id": "83ad4422-fce8-464d-bf33-1f8ce5029945",
   "metadata": {},
   "source": [
    "# Q1"
   ]
  },
  {
   "cell_type": "code",
   "execution_count": 12,
   "id": "ffb2c849-d638-4ed7-8edb-402b73163b5d",
   "metadata": {},
   "outputs": [],
   "source": [
    "def g(K):\n",
    "    return K**0.25 - 0.2\n",
    "\n",
    "def g1(K):\n",
    "    return 0.25*K**(-0.75)\n",
    "\n",
    "def g2(K):\n",
    "    return (-3/16)*K**(-7/4)\n",
    "\n",
    "def h(K, tenor, delta):\n",
    "    return g(K)/IRR(K, tenor, delta)\n",
    "\n",
    "def h1(K,  tenor, delta):\n",
    "    nominator = IRR(K, tenor, delta)*g1(K) - g(K)*IRR1(K, tenor, delta)\n",
    "    denominator = IRR(K, tenor, delta)**2\n",
    "    return nominator/denominator\n",
    "\n",
    "def h2(K, tenor, delta):\n",
    "    nominator = IRR(K, tenor, delta)*g2(K) - g(K)*IRR2(K, tenor, delta) - 2*IRR1(K, tenor, delta)*g1(K)\n",
    "    denominator = IRR(K, tenor, delta)**2\n",
    "    term2 = 2*IRR1(K, tenor, delta)**2*g(K)/IRR(K, tenor, delta)**3\n",
    "    return nominator/denominator + term2"
   ]
  },
  {
   "cell_type": "markdown",
   "id": "a31ae835-bf8e-4c95-9679-3016019e3b46",
   "metadata": {},
   "source": [
    "$V_0 = D(0, T)g(F) + \\int_0^F h''(K)V^{rec}(K)\\,dK + \\int_F^\\infty h''(K)V^{pay}(K)\\,dK$"
   ]
  },
  {
   "cell_type": "code",
   "execution_count": 15,
   "id": "45d69509-7d0d-4c02-8c9c-0a07e5d96121",
   "metadata": {},
   "outputs": [
    {
     "data": {
      "text/plain": [
       "0.24976811501040577"
      ]
     },
     "execution_count": 15,
     "metadata": {},
     "output_type": "execute_result"
    }
   ],
   "source": [
    "ois = pd.read_csv('ois.csv')\n",
    "D = ois[ois['years'] == 5]['df'].iloc[0] # ois D(0,5)\n",
    "\n",
    "fsr_SABR = pd.read_csv('fsr_SABR.csv')\n",
    "fsr_SABR_5_10 = fsr_SABR[(fsr_SABR['start']== 5) & (fsr_SABR['tenor'] == 10)]\n",
    "\n",
    "F = fsr_SABR_5_10['fsr'].iloc[0]\n",
    "beta = 0.9\n",
    "# alpha = fsr_SABR_5_10['alpha'].iloc[0]\n",
    "# rho = fsr_SABR_5_10['rho'].iloc[0]\n",
    "# nu = fsr_SABR_5_10['nu'].iloc[0]\n",
    "alpha = 0.174809\n",
    "rho = -0.415705\n",
    "nu = 0.511310\n",
    "\n",
    "tenor = 10\n",
    "delta = 0.5\n",
    "T = 5\n",
    "\n",
    "V_rec = integrate.quad(lambda K: h2(K, tenor, delta)*black76_Put(F, K, T, SABR(F, K, T, alpha, beta, rho, nu)), 0, F)\n",
    "V_pay = integrate.quad(lambda K: h2(K, tenor, delta)*black76_Call(F, K, T, SABR(F, K, T, alpha, beta, rho, nu)), F, 1000)\n",
    "\n",
    "pv = D* g(F) + V_rec[0] + V_pay[0]\n",
    "pv"
   ]
  },
  {
   "cell_type": "markdown",
   "id": "9793b406-3e3a-4ec3-b913-0df6cfff49cd",
   "metadata": {},
   "source": [
    "# Q2"
   ]
  },
  {
   "cell_type": "markdown",
   "id": "9feb0710-fd83-4f50-b3f4-66f73edbce26",
   "metadata": {},
   "source": [
    "#### Use static replication to value the PV of this payoff: $(CMS\\ 10y^{1/4} - 0.04^{1/2})^+$"
   ]
  },
  {
   "cell_type": "markdown",
   "id": "c7b24b0d-97f2-4555-97ab-4566b7a5b601",
   "metadata": {},
   "source": [
    "$F^\\frac{1}{4} > 0.2$<br>\n",
    "$F > 0.2^4$<br>\n",
    "$F > 0.0016 = L$"
   ]
  },
  {
   "cell_type": "markdown",
   "id": "bd359331-161e-4031-992c-caebae3667b8",
   "metadata": {},
   "source": [
    "$CMS\\ Caplet = h'(L)V^{pay}(L) + \\int^{\\infty}_Lh''(K)V^{pay}(K)dK$"
   ]
  },
  {
   "cell_type": "code",
   "execution_count": 17,
   "id": "abc2706d-cb24-4467-b4c9-aeaad4533ef2",
   "metadata": {},
   "outputs": [
    {
     "data": {
      "text/plain": [
       "0.28878647462858886"
      ]
     },
     "execution_count": 17,
     "metadata": {},
     "output_type": "execute_result"
    }
   ],
   "source": [
    "tenor = 10\n",
    "delta = 0.5\n",
    "T = 5\n",
    "L = 0.2**4\n",
    "\n",
    "term1 = h1(L, tenor, delta)*black76_Call(F, L, T, SABR(F, L, T, alpha, beta, rho, nu))\n",
    "term2 = integrate.quad(lambda K: h2(K, tenor,delta)*black76_Call(F, L, T, SABR(F, K, T, alpha, beta, rho, nu)), L,1000)\n",
    "PV_caplet = term1+ term2[0]\n",
    "PV_caplet"
   ]
  },
  {
   "cell_type": "code",
   "execution_count": null,
   "id": "83f31f64-3fee-43a6-892b-750bf2edec47",
   "metadata": {},
   "outputs": [],
   "source": []
  }
 ],
 "metadata": {
  "kernelspec": {
   "display_name": "Python 3 (ipykernel)",
   "language": "python",
   "name": "python3"
  },
  "language_info": {
   "codemirror_mode": {
    "name": "ipython",
    "version": 3
   },
   "file_extension": ".py",
   "mimetype": "text/x-python",
   "name": "python",
   "nbconvert_exporter": "python",
   "pygments_lexer": "ipython3",
   "version": "3.12.0"
  }
 },
 "nbformat": 4,
 "nbformat_minor": 5
}
