{
 "cells": [
  {
   "cell_type": "markdown",
   "id": "7b1a6061-4457-4ce0-9177-18e715781bd4",
   "metadata": {},
   "source": [
    "# PART 3: Convexity Correction"
   ]
  },
  {
   "cell_type": "markdown",
   "id": "57f5bbd3-63cd-4a8b-84b8-0734e61016b2",
   "metadata": {},
   "source": [
    "### Import Packages"
   ]
  },
  {
   "cell_type": "code",
   "execution_count": 1,
   "id": "6bcdded2-e261-4838-b459-bba1bc94f6cc",
   "metadata": {},
   "outputs": [],
   "source": [
    "import pandas as pd\n",
    "import numpy as np\n",
    "import matplotlib.pyplot as plt\n",
    "\n",
    "from scipy.integrate import quad\n",
    "from scipy.stats import norm\n",
    "from scipy.interpolate import CubicSpline\n",
    "\n",
    "import warnings\n",
    "warnings.filterwarnings(\"ignore\")"
   ]
  },
  {
   "cell_type": "markdown",
   "id": "b767b67b-2850-435b-bb5f-f0b73117e994",
   "metadata": {},
   "source": [
    " # <a id = \"top\">Contents</a>"
   ]
  },
  {
   "cell_type": "markdown",
   "id": "211097f3-f431-42bb-b6a9-4939ad25c384",
   "metadata": {},
   "source": [
    "# <a id = \"p1\"> <font color = \"green\">1. Value CMS Products [(back to contents)](#top)"
   ]
  },
  {
   "cell_type": "markdown",
   "id": "fa100829-341c-41a2-a051-408941232dd1",
   "metadata": {},
   "source": [
    "#### CMS Formula"
   ]
  },
  {
   "cell_type": "markdown",
   "id": "1475b217-802c-4158-abfb-0756978fbe0b",
   "metadata": {},
   "source": [
    "For static replication of any constant maturity swap (CMS) payoff $g(F) = F$, $F$ is the swap rate, a CMS contract paying can be expressed as\n",
    "  \\begin{equation*}\n",
    "    \\begin{split}\n",
    "      D(0,T) F + \\int_0^F h''(K) V^{rec}(K) dK + \\int_F^\\infty h''(K) V^{pay}(K) dK\n",
    "    \\end{split}\n",
    "  \\end{equation*}\n",
    "\n",
    "Where\n",
    "  \n",
    "  \\begin{equation*}\n",
    "    \\begin{split}\n",
    "      h(K) &= \\frac{g(K)}{\\mbox{IRR}(K)} \\\\\n",
    "      h'(K) &= \\frac{\\mbox{IRR}(K)g'(K) - g(K)\\mbox{IRR}'(K)}{\\mbox{IRR}(K)^2} \\\\\n",
    "      h''(K) &= \\frac{\\mbox{IRR}(K)g''(K)-\\mbox{IRR}''(K)g(K) -2\\cdot\\mbox{IRR}'(K)g'(K)}{\\mbox{IRR}(K)^2} \\\\\n",
    "      &\\;\\;\\;\\;\\;\\;\\;\\;\\;\\;+\n",
    "      \\frac{2\\cdot\\mbox{IRR}'(K)^2g(K)}{\\mbox{IRR}(K)^3}.\n",
    "    \\end{split}\n",
    "  \\end{equation*}\n",
    "\n",
    "For CMS rate payment, the derivatives are:\n",
    "\n",
    "\\begin{equation*}\n",
    "\\begin{split}\n",
    "g(K) &= K \\\\\n",
    "g'(K) &= 1 \\\\\n",
    "g''(K) &= 0\n",
    "\\end{split}\n",
    "\\end{equation*}\n",
    "\n",
    "Let $m$ denote the payment frequence ($m=2$ for semi-annual payment frequency), and let $N = T_N-T_n$ denote the tenor of the swap (number of years), the partial derivatives on the IRR function $\\mbox{IRR}(S)$ given by:\n",
    "\\begin{equation*}\n",
    "\\begin{split}\n",
    "\\mbox{IRR}(K)&=\\sum_{i=1}^{N\\times m}\\frac{1}{(1+\\frac{K}{m})^i}=\\frac{1}{K}\\left[1-\\frac{1}{\\left(1+\\frac{K}{m}\\right)^{N\\times m}}\\right]\\\\\n",
    "\\mbox{IRR}'(K)&=-\\frac{1}{K}\\mbox{IRR}(K)\n",
    "+\\frac{1}{m\\times K}\\frac{N\\times m}{\\left(1+\\frac{K}{m}\\right)^{N\\times m+1}} \\\\\n",
    "\\mbox{IRR}''(K)&=-\\frac{2}{K}\\mbox{IRR}'(K)\n",
    "-\\frac{1}{m^2\\times K}\\frac{N\\times m\\cdot (N\\times m+1)}{\\left(1+\\frac{K}{m}\\right)^{N\\times m+2}} \\\\\n",
    "\\end{split}\n",
    "\\end{equation*}"
   ]
  },
  {
   "cell_type": "code",
   "execution_count": 2,
   "id": "36425689-4fef-4337-8f0a-875fe52ee88c",
   "metadata": {},
   "outputs": [],
   "source": [
    "def g_0(K):\n",
    "    return K\n",
    "\n",
    "def g_1(K):\n",
    "    return 1.0\n",
    "\n",
    "def g_2(K):\n",
    "    return 0.0\n",
    "\n",
    "def IRR_0(K, m, tenor):\n",
    "    # Implementation of IRR(K) function\n",
    "    value = 1/K * ( 1.0 - 1/(1 + K/m)**(tenor*m) )\n",
    "    return value\n",
    "\n",
    "def IRR_1(K, m, tenor):\n",
    "    # Implementation of IRR'(K) function (1st derivative)\n",
    "    firstDerivative = -1/K*IRR_0(K, m, tenor) + 1/(K*m)*tenor*m/(1+K/m)**(tenor*m+1)\n",
    "    return firstDerivative\n",
    "\n",
    "def IRR_2(K, m, tenor):\n",
    "    # Implementation of IRR''(K) function (2nd derivative)\n",
    "    secondDerivative = -2/K*IRR_1(K, m, tenor) - 1/(K*m*m)*(tenor*m)*(tenor*m+1)/(1+K/m)**(tenor*m+2)\n",
    "    return secondDerivative\n",
    "\n",
    "def h_0(K, m, tenor):\n",
    "    # implementation of h(K)\n",
    "    value = g_0(K) / IRR_0(K, m, tenor)\n",
    "    return value\n",
    "\n",
    "def h_1(K, m, tenor):\n",
    "    # implementation of h'(K) (1st derivative)\n",
    "    firstDerivative = (IRR_0(K, m, tenor)*g_1(K) - g_0(K)*IRR_1(K, m, tenor)) / IRR_0(K, m, tenor)**2\n",
    "    return firstDerivative\n",
    "\n",
    "def h_2(K, m, tenor):\n",
    "    # implementation of h''(K) (2nd derivative)\n",
    "    secondDerivative = ((IRR_0(K, m, tenor)*g_2(K) - IRR_2(K, m, tenor)*g_0(K) - 2.0*IRR_1(K, m, tenor)*g_1(K))/IRR_0(K, m, tenor)**2 \n",
    "                        + 2.0*IRR_1(K, m, tenor)**2*g_0(K)/IRR_0(K, m, tenor)**3)\n",
    "    return secondDerivative"
   ]
  },
  {
   "cell_type": "markdown",
   "id": "2982a309-d582-4963-9ddb-65b4179e115f",
   "metadata": {},
   "source": [
    "#### Use the SABR model in the part 2"
   ]
  },
  {
   "cell_type": "markdown",
   "id": "d50e224e-f09f-4a7f-88cf-4fa42442c4e2",
   "metadata": {},
   "source": [
    "We will also need to implement the IRR-settled payer and receiver swaption formulae:\n",
    "\n",
    "  \\begin{equation*}\n",
    "    \\begin{split}\n",
    "      V^{pay}_{n,N}(0) &= D(0,T_n) \\cdot \\mbox{IRR}(S_{n,N}(0)) \\cdot \\mbox{Black76Call}(S_{n,N}(0),K,\\sigma_{n,N},T) \\\\\n",
    "      V^{rec}_{n,N}(0) &= D(0,T_n) \\cdot \\mbox{IRR}(S_{n,N}(0)) \\cdot \\mbox{Black76Put}(S_{n,N}(0),K,\\sigma_{n,N},T) \\\\\n",
    "    \\end{split}\n",
    "  \\end{equation*}\n",
    "\n",
    "where $S_{n,N}(0)=F$ is today's forward swap rate calculated based on the curves we bootstrapped, and $\\sigma_{n,N}$ is the SABR implied volatility calibrated to swaption market data."
   ]
  },
  {
   "cell_type": "code",
   "execution_count": 21,
   "id": "f0ddfba3-cb5f-4a02-b0ab-72c66e4e0d85",
   "metadata": {},
   "outputs": [],
   "source": [
    "## Import IRS Data\n",
    "raw_data = pd.read_excel(\"IRS_data_final.xlsx\")\n",
    "\n",
    "## Import the SABR parameters in Part 2\n",
    "Alpha = pd.read_excel('Part2_SABR.xlsx',sheet_name = 'Alpha')\n",
    "Rho = pd.read_excel('Part2_SABR.xlsx',sheet_name = 'Rho')\n",
    "Nu = pd.read_excel('Part2_SABR.xlsx',sheet_name = 'Nu')"
   ]
  },
  {
   "cell_type": "code",
   "execution_count": 22,
   "id": "ca770dbc-b04f-4e92-8d80-88585b86fc70",
   "metadata": {},
   "outputs": [],
   "source": [
    "## Linear interpolate Libor DF\n",
    "def LIBORDF(T, df = raw_data):\n",
    "    x = list(df['Tenor'])\n",
    "    y = list(df['LIBOR_DF'])\n",
    "    return np.interp(T, x, y)\n",
    "\n",
    "## Linear interpolate OIS DF\n",
    "def OISDF(T, df = raw_data):\n",
    "    x = list(df['Tenor'])\n",
    "    y = list(df['ON_DF'])\n",
    "    return np.interp(T, x, y)\n",
    "\n",
    "def Forward_LIBOR(m, D1, D2):\n",
    "    return m * ((D1 - D2) / D2)\n",
    "\n",
    "## Calculate swap rate\n",
    "def Forward_Swap_Rate(expiry, tenor, m):\n",
    "    floated, fix = 0, 0\n",
    "    for i in range(1, int(tenor * m)+1):\n",
    "        end = expiry + i/m\n",
    "        floated += OISDF(end) * Forward_LIBOR(m, LIBORDF(end-1/m), LIBORDF(end)) * 1/m\n",
    "        fix += OISDF(expiry + i/m)/m\n",
    "    return floated/fix\n",
    "\n",
    "## Calculate the SABR implied volatitlity\n",
    "def SABR(F, K, T, alpha, beta, rho, nu):\n",
    "    X = K\n",
    "    if F == K:\n",
    "        numer1 = (((1 - beta)**2)/24)*alpha*alpha/(F**(2 - 2*beta))\n",
    "        numer2 = 0.25*rho*beta*nu*alpha/(F**(1 - beta))\n",
    "        numer3 = ((2 - 3*rho*rho)/24)*nu*nu\n",
    "        VolAtm = alpha*(1 + (numer1 + numer2 + numer3)*T)/(F**(1-beta))\n",
    "        sabrsigma = VolAtm\n",
    "    else:\n",
    "        z = (nu/alpha)*((F*X)**(0.5*(1-beta)))*np.log(F/X)\n",
    "        zhi = np.log((((1 - 2*rho*z + z*z)**0.5) + z - rho)/(1 - rho))\n",
    "        numer1 = (((1 - beta)**2)/24)*((alpha*alpha)/((F*X)**(1 - beta)))\n",
    "        numer2 = 0.25*rho*beta*nu*alpha/((F*X)**((1 - beta)/2))\n",
    "        numer3 = ((2 - 3*rho*rho)/24)*nu*nu\n",
    "        numer = alpha*(1 + (numer1 + numer2 + numer3)*T)*z\n",
    "        denom1 = ((1 - beta)**2/24)*(np.log(F/X))**2\n",
    "        denom2 = (((1 - beta)**4)/1920)*((np.log(F/X))**4)\n",
    "        denom = ((F*X)**((1 - beta)/2))*(1 + denom1 + denom2)*zhi\n",
    "        sabrsigma = numer/denom\n",
    "    return sabrsigma\n",
    "\n",
    "# Linear interpolate SABR parameters\n",
    "def ParameterInterp (dataframe, tenor, expiry):\n",
    "    linear_interp = []\n",
    "    new_paras = []\n",
    "    for i in [1,2,3,5,10]:\n",
    "        linear_interp.append(np.interp(tenor, [1, 5, 10], dataframe[i]))\n",
    "    for i in range(5):\n",
    "        new_paras.append(linear_interp[i])\n",
    "    result = np.interp(expiry, [1, 2, 3, 5, 10], new_paras)\n",
    "    return float(result)\n",
    "\n",
    "## Black 76 pricing formula\n",
    "def black76_payer(F, K, t, sigma):\n",
    "    d1 = (np.log(F/K)+(1/2)*(sigma**2)*t)/(sigma*np.sqrt(t))\n",
    "    d2 = d1 - sigma * np.sqrt(t)\n",
    "    price = F*norm.cdf(d1) - K*norm.cdf(d2)\n",
    "    return price\n",
    "\n",
    "def black76_receiver(F, K, t, sigma):\n",
    "    d1 = (np.log(F/K)+1/2*(sigma**2)*t)/(sigma*np.sqrt(t))\n",
    "    d2 = d1 - sigma * np.sqrt(t)\n",
    "    price = K*norm.cdf(-d2) - F*norm.cdf(-d1)\n",
    "    return price\n",
    "\n",
    "## IRR-Settled payer and recevier swaption integrant at time T\n",
    "def Rec_Integral(F, K, m, tenor, t, sigma):\n",
    "    return h_2(K, m, tenor) * black76_receiver(F, K, t, sigma)\n",
    "\n",
    "def Pay_Integral(F, K, m, tenor, t, sigma):\n",
    "    return h_2(K, m, tenor) * black76_payer(F, K, t, sigma)\n",
    "\n",
    "## Calculate the CMS rate\n",
    "def CMS(m, tenor, expiry):\n",
    "    F = Forward_Swap_Rate(expiry, tenor, m)\n",
    "    alpha = ParameterInterp(Alpha, tenor, expiry)\n",
    "    rho = ParameterInterp(Rho, tenor ,expiry)\n",
    "    nu = ParameterInterp(Nu, tenor ,expiry)\n",
    "    CMS = F + quad(lambda x: Rec_Integral(F, x, m, tenor ,expiry, SABR(F,x,expiry,alpha,0.9,rho,nu)), 0, F)[0]\\\n",
    "            + quad(lambda x: Pay_Integral(F, x, m, tenor ,expiry, SABR(F,x,expiry,alpha,0.9,rho,nu)), F, 0.1)[0]\n",
    "    return CMS\n",
    "\n",
    "## Calculate the leg of CMS\n",
    "def PV_CMS(m, tenor, expiry):\n",
    "    n = int(expiry*m)\n",
    "    pv = 0\n",
    "    for i in range(1,n+1):\n",
    "        ti = i/m\n",
    "        pv += (OISDF(ti)/m) * CMS(m, tenor, expiry)\n",
    "    return pv"
   ]
  },
  {
   "cell_type": "code",
   "execution_count": 23,
   "id": "6d63752d",
   "metadata": {},
   "outputs": [],
   "source": [
    "def ParameterInterp (dataframe, tenor, expiry):\n",
    "    linear_interp = []\n",
    "    new_paras = []\n",
    "    for i in [1,2,3,5,10]:\n",
    "        linear_interp.append(np.interp(tenor, [1, 5, 10], dataframe[i]))\n",
    "    for i in range(5):\n",
    "        new_paras.append(linear_interp[i])\n",
    "    result = np.interp(expiry, [1, 2, 3, 5, 10], new_paras)\n",
    "    return float(result)"
   ]
  },
  {
   "cell_type": "markdown",
   "id": "2d405054-f1f2-4f9b-a556-866ec933959c",
   "metadata": {},
   "source": [
    "#### CMS 10y semi-annually over the next 5 years"
   ]
  },
  {
   "cell_type": "code",
   "execution_count": 24,
   "id": "339207f0-c1eb-4c05-86b3-d9fefd747c94",
   "metadata": {},
   "outputs": [
    {
     "name": "stdout",
     "output_type": "stream",
     "text": [
      "PV of a leg receiving CMS10y semi-annually over the next 5 years is  0.2193597667578579\n"
     ]
    }
   ],
   "source": [
    "tenor = 10\n",
    "expiry = 5\n",
    "m = 2\n",
    "print('PV of a leg receiving CMS10y semi-annually over the next 5 years is ', PV_CMS(m, tenor, expiry))"
   ]
  },
  {
   "cell_type": "markdown",
   "id": "ba1f7729-5541-4ee5-87cf-38291e7e4aff",
   "metadata": {},
   "source": [
    "#### CMS 2y quarterly over the next 10 years"
   ]
  },
  {
   "cell_type": "code",
   "execution_count": 25,
   "id": "edf0eede-74ab-40e8-9a4a-5631181f9c5b",
   "metadata": {},
   "outputs": [
    {
     "name": "stdout",
     "output_type": "stream",
     "text": [
      "PV of a leg receiving CMS2y quarterly over the next 10 years =  0.4322015025126164\n"
     ]
    }
   ],
   "source": [
    "tenor1 = 2\n",
    "expiry1 = 10\n",
    "m1 = 4\n",
    "print('PV of a leg receiving CMS2y quarterly over the next 10 years = ', PV_CMS(m1, tenor1, expiry1))"
   ]
  }
 ],
 "metadata": {
  "kernelspec": {
   "display_name": "Python 3 (ipykernel)",
   "language": "python",
   "name": "python3"
  },
  "language_info": {
   "codemirror_mode": {
    "name": "ipython",
    "version": 3
   },
   "file_extension": ".py",
   "mimetype": "text/x-python",
   "name": "python",
   "nbconvert_exporter": "python",
   "pygments_lexer": "ipython3",
   "version": "3.12.0"
  }
 },
 "nbformat": 4,
 "nbformat_minor": 5
}
