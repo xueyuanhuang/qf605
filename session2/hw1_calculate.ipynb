{
 "cells": [
  {
   "cell_type": "code",
   "execution_count": null,
   "id": "724b982d-3710-42a2-adf0-c0e82c314ded",
   "metadata": {},
   "outputs": [],
   "source": [
    "D_0_6m = 0.9926\n",
    "0.018*0.5*(D_0_6m + D_0_12m) = 1 - D_0_12m"
   ]
  },
  {
   "cell_type": "code",
   "execution_count": 2,
   "id": "da2ae6a5-c618-4cbc-9f5f-52aca4b5ae5e",
   "metadata": {},
   "outputs": [
    {
     "name": "stdout",
     "output_type": "stream",
     "text": [
      "Collecting sympy\n",
      "  Downloading sympy-1.12-py3-none-any.whl (5.7 MB)\n",
      "\u001b[2K     \u001b[90m━━━━━━━━━━━━━━━━━━━━━━━━━━━━━━━━━━━━━━━━\u001b[0m \u001b[32m5.7/5.7 MB\u001b[0m \u001b[31m12.3 MB/s\u001b[0m eta \u001b[36m0:00:00\u001b[0ma \u001b[36m0:00:01\u001b[0m\n",
      "\u001b[?25hCollecting mpmath>=0.19 (from sympy)\n",
      "  Downloading mpmath-1.3.0-py3-none-any.whl (536 kB)\n",
      "\u001b[2K     \u001b[90m━━━━━━━━━━━━━━━━━━━━━━━━━━━━━━━━━━━━━━\u001b[0m \u001b[32m536.2/536.2 kB\u001b[0m \u001b[31m20.7 MB/s\u001b[0m eta \u001b[36m0:00:00\u001b[0m\n",
      "\u001b[?25hInstalling collected packages: mpmath, sympy\n",
      "Successfully installed mpmath-1.3.0 sympy-1.12\n",
      "\n",
      "\u001b[1m[\u001b[0m\u001b[34;49mnotice\u001b[0m\u001b[1;39;49m]\u001b[0m\u001b[39;49m A new release of pip is available: \u001b[0m\u001b[31;49m23.2.1\u001b[0m\u001b[39;49m -> \u001b[0m\u001b[32;49m23.3.2\u001b[0m\n",
      "\u001b[1m[\u001b[0m\u001b[34;49mnotice\u001b[0m\u001b[1;39;49m]\u001b[0m\u001b[39;49m To update, run: \u001b[0m\u001b[32;49mpip3 install --upgrade pip\u001b[0m\n",
      "Note: you may need to restart the kernel to use updated packages.\n"
     ]
    }
   ],
   "source": [
    "pip install sympy"
   ]
  },
  {
   "cell_type": "code",
   "execution_count": 4,
   "id": "c57d54ad-ba7b-4b12-96fe-e2e41d74e29b",
   "metadata": {},
   "outputs": [
    {
     "data": {
      "text/plain": [
       "[0.982226560951437]"
      ]
     },
     "execution_count": 4,
     "metadata": {},
     "output_type": "execute_result"
    }
   ],
   "source": [
    "from sympy import symbols, Eq, solve\n",
    "\n",
    "# Define the symbol\n",
    "D_0_12m = symbols('D_0_12m')\n",
    "\n",
    "# Given values\n",
    "D_0_6m = 0.9926\n",
    "\n",
    "# Equation\n",
    "equation = Eq(0.018 * 0.5 * (D_0_6m + D_0_12m), 1 - D_0_12m)\n",
    "\n",
    "# Solve for D_0_12m\n",
    "D_0_12m = solve(equation, D_0_12m)\n",
    "D_0_12m"
   ]
  },
  {
   "cell_type": "code",
   "execution_count": 5,
   "id": "4b5e59fb-861b-4cac-a751-77a14c42fca9",
   "metadata": {},
   "outputs": [
    {
     "data": {
      "text/plain": [
       "[0.982226560951437]"
      ]
     },
     "execution_count": 5,
     "metadata": {},
     "output_type": "execute_result"
    }
   ],
   "source": [
    "D_0_6m = 0.9926\n",
    "D_0_12m = 0.9822\n",
    "\n",
    "D_0_18m = (D_0_12m + D_0_24m) / 2\n",
    "\n",
    "0.02*0.5*(D_0_6m + D_0_12m + D_0_18m + D_0_24m) = 1 - D_0_24m"
   ]
  },
  {
   "cell_type": "code",
   "execution_count": 7,
   "id": "bf47ad0f-3e9e-407f-b718-9c4e6176bc29",
   "metadata": {},
   "outputs": [
    {
     "data": {
      "text/plain": [
       "[0.960927093596059]"
      ]
     },
     "execution_count": 7,
     "metadata": {},
     "output_type": "execute_result"
    }
   ],
   "source": [
    "# Given values\n",
    "D_0_6m = 0.9926\n",
    "D_0_12m = 0.9822\n",
    "\n",
    "# Define the symbol for D_0_24m\n",
    "D_0_24m = symbols('D_0_24m')\n",
    "\n",
    "# Equation for D_0_18m\n",
    "D_0_18m = (D_0_12m + D_0_24m) / 2\n",
    "\n",
    "# Equation to solve\n",
    "equation = Eq(0.02 * 0.5 * (D_0_6m + D_0_12m + D_0_18m + D_0_24m), 1 - D_0_24m)\n",
    "\n",
    "# Solve for D_0_24m\n",
    "D_0_24m = solve(equation, D_0_24m)\n",
    "D_0_24m"
   ]
  },
  {
   "cell_type": "code",
   "execution_count": 10,
   "id": "d386d6b3-ac49-4840-b796-7f251da91da5",
   "metadata": {},
   "outputs": [
    {
     "data": {
      "text/latex": [
       "$\\displaystyle 0.971563546798029$"
      ],
      "text/plain": [
       "0.971563546798029"
      ]
     },
     "execution_count": 10,
     "metadata": {},
     "output_type": "execute_result"
    }
   ],
   "source": [
    "D_0_18m = (D_0_12m + D_0_24m[0]) / 2\n",
    "D_0_18m"
   ]
  },
  {
   "cell_type": "code",
   "execution_count": 11,
   "id": "7acd1ae3-f5fa-4496-b7e4-81fe30a61c17",
   "metadata": {},
   "outputs": [
    {
     "data": {
      "text/latex": [
       "$\\displaystyle 0.0193027457408465$"
      ],
      "text/plain": [
       "0.0193027457408465"
      ]
     },
     "execution_count": 11,
     "metadata": {},
     "output_type": "execute_result"
    }
   ],
   "source": [
    "IRS_18m = (1 - D_0_18m) / (0.5*(D_0_6m + D_0_12m + D_0_18m))\n",
    "IRS_18m"
   ]
  },
  {
   "cell_type": "code",
   "execution_count": 12,
   "id": "5665b25b-67ac-4fb8-b0de-fb1beace9fec",
   "metadata": {},
   "outputs": [
    {
     "data": {
      "text/plain": [
       "[0.940564385079404]"
      ]
     },
     "execution_count": 12,
     "metadata": {},
     "output_type": "execute_result"
    }
   ],
   "source": [
    "# Given values\n",
    "D_0_6m = 0.9926\n",
    "D_0_12m = 0.9822\n",
    "D_0_18m = 0.9716\n",
    "D_0_24m = 0.9609\n",
    "\n",
    "# Define the symbol for D_0_24m\n",
    "D_0_36m = symbols('D_0_36m')\n",
    "\n",
    "# Equation for D_0_18m\n",
    "D_0_30m = (D_0_24m + D_0_36m) / 2\n",
    "\n",
    "# Equation to solve\n",
    "equation = Eq(0.0205 * 0.5 * (D_0_6m + D_0_12m + D_0_18m + D_0_24m + D_0_30m + D_0_36m), 1 - D_0_36m)\n",
    "\n",
    "# Solve for D_0_24m\n",
    "D_0_36m = solve(equation, D_0_36m)\n",
    "D_0_36m"
   ]
  },
  {
   "cell_type": "code",
   "execution_count": 13,
   "id": "56307689-8628-4f44-9047-ff7320bcb846",
   "metadata": {},
   "outputs": [
    {
     "data": {
      "text/latex": [
       "$\\displaystyle 0.950732192539702$"
      ],
      "text/plain": [
       "0.950732192539702"
      ]
     },
     "execution_count": 13,
     "metadata": {},
     "output_type": "execute_result"
    }
   ],
   "source": [
    "D_0_30m = (D_0_24m + D_0_36m[0]) / 2\n",
    "D_0_30m"
   ]
  },
  {
   "cell_type": "code",
   "execution_count": 18,
   "id": "21ead293-c970-447e-8fc5-d3729e3ebfae",
   "metadata": {},
   "outputs": [
    {
     "data": {
      "text/latex": [
       "$\\displaystyle 0.0217771076862672$"
      ],
      "text/plain": [
       "0.0217771076862672"
      ]
     },
     "execution_count": 18,
     "metadata": {},
     "output_type": "execute_result"
    }
   ],
   "source": [
    "IRS_12m_36m = (D_0_12m - D_0_36m[0]) / (0.5*(D_0_18m + D_0_24m + D_0_30m + D_0_36m[0]))\n",
    "IRS_12m_36m"
   ]
  },
  {
   "cell_type": "code",
   "execution_count": null,
   "id": "10dee3f5-8290-4934-a7e9-ff9bee7829c6",
   "metadata": {},
   "outputs": [],
   "source": []
  }
 ],
 "metadata": {
  "kernelspec": {
   "display_name": "Python 3 (ipykernel)",
   "language": "python",
   "name": "python3"
  },
  "language_info": {
   "codemirror_mode": {
    "name": "ipython",
    "version": 3
   },
   "file_extension": ".py",
   "mimetype": "text/x-python",
   "name": "python",
   "nbconvert_exporter": "python",
   "pygments_lexer": "ipython3",
   "version": "3.12.0"
  }
 },
 "nbformat": 4,
 "nbformat_minor": 5
}
